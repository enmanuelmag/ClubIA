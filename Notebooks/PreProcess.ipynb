{
 "cells": [
  {
   "cell_type": "code",
   "execution_count": null,
   "metadata": {},
   "outputs": [],
   "source": [
    "import re\n",
    "import os\n",
    "import io\n",
    "import sys\n",
    "import random\n",
    "import warnings\n",
    "import importlib\n",
    "import numpy as np\n",
    "import tf_functions\n",
    "import pandas as pd\n",
    "import pickle as pkl\n",
    "import seaborn as sns\n",
    "import transformer_v2\n",
    "import tensorflow as tf\n",
    "import keras.backend as K\n",
    "import matplotlib.pyplot as plt\n",
    "import time\n",
    "\n",
    "from numba import cuda\n",
    "from PIL import Image\n",
    "from collections import Counter\n",
    "from sklearn import preprocessing\n",
    "from nltk.corpus import stopwords\n",
    "from tensorflow.keras import mixed_precision\n",
    "from keras.preprocessing.text import Tokenizer\n",
    "from keras.preprocessing.sequence import pad_sequences\n",
    "from keras.applications.imagenet_utils import preprocess_input\n",
    "from tensorflow.keras.callbacks import ReduceLROnPlateau, EarlyStopping, ModelCheckpoint, TensorBoard\n",
    "\n",
    "VitModel = transformer_v2.VitModel\n",
    "\n",
    "importlib.reload(tf_functions)\n",
    "warnings.filterwarnings('ignore')\n",
    "mixed_precision.set_global_policy('mixed_float16')\n",
    "\n",
    "SEED = 42\n",
    "random.seed(SEED)\n",
    "np.random.seed(SEED)\n",
    "tf.random.set_seed(SEED)\n",
    "tf.keras.utils.set_random_seed(SEED)\n",
    "stop_words = set(stopwords.words('english'))\n",
    "\n",
    "\n",
    "### PARAMS DATA\n",
    "SIZE_IMG = 88\n",
    "\n",
    "PATCH_SIZE = 8 # SIZE OF THE PATCHES TO BE EXTRACT FROM THE INPUT IMAGES\n",
    "NUM_PATCHES = (SIZE_IMG // PATCH_SIZE) ** 2\n",
    "\n",
    "PROJECTION_DIM = 256 #521\n",
    "TRANSFORMER_LAYERS = 8 #8\n",
    "NUM_HEADS = 1 #1\n",
    "TRANSFORMER_UNITS = [\n",
    "  PROJECTION_DIM * 2,\n",
    "  PROJECTION_DIM,\n",
    "] # SIZE OF THE TRANSFORMER LAYERS\n",
    "MLP_HEAD_UNITS = [ 256 ] # [ 256 ] [ 512 ]\n",
    "\n",
    "### PATHS\n",
    "VERSION_DS = 2\n",
    "TF_RECORD_PATH = '../Data/dataset.tfrecord'\n",
    "DATASET_PATH = '../Bases de Datos/CrisisMMD_v2.0/data_image/' if VERSION_DS == 1 else '../Bases de Datos/Cyclone_Wildfire_Flood_Earthquake_Database/'"
   ]
  },
  {
   "cell_type": "markdown",
   "metadata": {},
   "source": [
    "### Utils functions"
   ]
  },
  {
   "cell_type": "code",
   "execution_count": null,
   "metadata": {},
   "outputs": [],
   "source": [
    "re_url = re.compile(r'(http|ftp|https)://([\\w_-]+(?:(?:\\.[\\w_-]+)+))([\\w.,@?^=%&:/~+#-]*[\\w@?^=%&/~+#-])?')\n",
    "re_email = re.compile(r'[\\w\\.-]+@[\\w\\.-]+')\n",
    "re_hashtag = re.compile(r'#([^\\s]+)')\n",
    "\n",
    "def clean_str(string):\n",
    "  string = re_url.sub('', string)\n",
    "  string = re.sub(r\"[^A-Za-z0-9(),!?\\'\\#@`]\", \" \", string)\n",
    "  string = re.sub(r\"\\'s\", \" \\'s\", string)\n",
    "  string = re.sub(r\"\\'ve\", \" \\'ve\", string)\n",
    "  string = re.sub(r\"n\\'t\", \" n\\'t\", string)\n",
    "  string = re.sub(r\"\\'re\", \" \\'re\", string)\n",
    "  string = re.sub(r\"\\'d\", \" \\'d\", string)\n",
    "  string = re.sub(r\"\\'ll\", \" \\'ll\", string)\n",
    "  string = re.sub(r\",\", \" , \", string)\n",
    "  string = re.sub(r\"!\", \" ! \", string)\n",
    "  string = re.sub(r\"\\(\", \" \\( \", string)\n",
    "  string = re.sub(r\"\\)\", \" \\) \", string)\n",
    "  string = re.sub(r\"\\?\", \" \\? \", string)\n",
    "  string = re.sub(r\"\\s{2,}\", \" \", string)\n",
    "  string = string.strip().lower().split()\n",
    "  string = [ word for word in string if word not in stop_words ]\n",
    "  return \" \".join(string)\n"
   ]
  },
  {
   "cell_type": "code",
   "execution_count": null,
   "metadata": {},
   "outputs": [],
   "source": [
    "def get_class_names(ds_path):\n",
    "  class_array = []\n",
    "  for class_name in os.listdir(ds_path):\n",
    "    class_array.append(class_name)\n",
    "  return class_array\n",
    "\n",
    "def get_class_id(class_name):\n",
    "  return class_array.index(class_name)\n",
    "\n",
    "\n",
    "def build_example(path_file, class_name):\n",
    "  n_path = path_file\n",
    "  if not path_file.endswith('.jpeg') and not path_file.endswith('.jpg'):\n",
    "    img_array = Image.open(path_file).convert('RGB')\n",
    "    n_path = path_file.replace('.png', '.jpeg')\n",
    "    img_array.save(n_path)\n",
    "    os.remove(path_file)\n",
    "\n",
    "  path_file = n_path\n",
    "  img_array = open(path_file, 'rb').read()\n",
    "  example = tf.train.Example(\n",
    "    features=tf.train.Features(feature={\n",
    "    'image': tf.train.Feature(bytes_list=tf.train.BytesList(value=[img_array])),\n",
    "    'class_id': tf.train.Feature(int64_list=tf.train.Int64List(value=[get_class_id(class_name)])),\n",
    "    'class_name': tf.train.Feature(bytes_list=tf.train.BytesList(value=[class_name.encode('utf-8')])),\n",
    "    'filepath': tf.train.Feature(bytes_list=tf.train.BytesList(value=[path_file.encode('utf-8')]))\n",
    "  }))\n",
    "  return example\n",
    "\n",
    "def create_tf_record(version, ds_path, out_dir):\n",
    "  writer = tf.io.TFRecordWriter(out_dir)\n",
    "  print('Start writing to {}'.format(out_dir))\n",
    "  if version == 1:\n",
    "    for class_name in os.listdir(ds_path):\n",
    "      for date in os.listdir(f'{ds_path}/{class_name}/'):\n",
    "        for idx, filename in enumerate(os.listdir(f'{ds_path}/{class_name}/{date}/')):\n",
    "          path_file = os.path.join(ds_path, class_name, date, filename)\n",
    "          tf_example = build_example(path_file, class_name)\n",
    "          writer.write(tf_example.SerializeToString())\n",
    "  elif version == 2:\n",
    "    for class_name in os.listdir(ds_path):\n",
    "      for idx, filename in enumerate(os.listdir(f'{ds_path}/{class_name}/')):\n",
    "        path_file = os.path.join(ds_path, class_name, filename)\n",
    "        tf_example = build_example(path_file, class_name)\n",
    "        writer.write(tf_example.SerializeToString())\n",
    "  writer.close()\n",
    "  print('Done')\n",
    "\n",
    "\n",
    "def parse_tfrecord(tfrecord, size):\n",
    "  x = tf.io.parse_single_example(tfrecord, IMAGE_FEATURE_MAP)\n",
    "  x_train = tf.image.decode_jpeg(x['image'], channels=3)\n",
    "  x_train = tf.image.resize(x_train, (size, size))\n",
    "  x_train = preprocess_input(x_train, mode='tf')\n",
    "\n",
    "  class_id = x['class_id']\n",
    "  if class_id is None:\n",
    "    class_id = -1\n",
    "  y_train = tf.cast(class_id, tf.int64)\n",
    "\n",
    "  return ( x_train, y_train )\n",
    "\n",
    "def load_tfrecord_dataset(file_pattern, size):\n",
    "\n",
    "  files = tf.data.Dataset.list_files(file_pattern)\n",
    "  dataset = files.flat_map(tf.data.TFRecordDataset)\n",
    "  dataset = dataset.map(lambda x: parse_tfrecord(x, size))\n",
    "  return dataset\n",
    "\n",
    "IMAGE_FEATURE_MAP = {\n",
    "  'image': tf.io.FixedLenFeature([], tf.string),\n",
    "  'class_id': tf.io.FixedLenFeature([], tf.int64),\n",
    "}"
   ]
  },
  {
   "cell_type": "code",
   "execution_count": null,
   "metadata": {},
   "outputs": [],
   "source": [
    "class_array = get_class_names(DATASET_PATH)\n",
    "pkl.dump(class_array, open('../Data/class_array.pkl', 'wb'))\n",
    "create_tf_record(VERSION_DS, DATASET_PATH, TF_RECORD_PATH)"
   ]
  },
  {
   "cell_type": "code",
   "execution_count": null,
   "metadata": {},
   "outputs": [],
   "source": [
    "class_array = pkl.load(open('../Data/class_array.pkl', 'rb'))\n",
    "tf_record = load_tfrecord_dataset(TF_RECORD_PATH, SIZE_IMG)\n",
    "tf_record = tf_record.cache()\n",
    "\n",
    "all_ds_len = sum(1 for _ in tf_record)\n",
    "tf_record = tf_record.shuffle(all_ds_len, seed=SEED)\n",
    "print(f'Total number of images: {all_ds_len}')\n",
    "\n",
    "n_train = int(all_ds_len * 0.8)\n",
    "n_valid = int(all_ds_len * 0.1)\n",
    "n_test = all_ds_len - n_train - n_valid\n",
    "\n",
    "train_ds = tf_record.take(n_train)\n",
    "valid_ds = tf_record.skip(n_train).take(n_valid)\n",
    "test_ds = tf_record.skip(n_train + n_valid).take(n_test)"
   ]
  },
  {
   "cell_type": "code",
   "execution_count": 29,
   "metadata": {},
   "outputs": [
    {
     "name": "stdout",
     "output_type": "stream",
     "text": [
      "Epoch 1/200\n",
      "     68/Unknown - 16s 91ms/step - loss: 3.0925 - accuracy: 0.4857\n",
      "Epoch 1: accuracy improved from -inf to 0.48572, saving model to checkpoints\\3_[256]_8_trans_1_heads_121_num_patchs_256_1.75e-05checkpoint.h5\n",
      "68/68 [==============================] - 20s 152ms/step - loss: 3.0925 - accuracy: 0.4857 - val_loss: 1.1492 - val_accuracy: 0.6022 - lr: 1.7500e-05\n",
      "Epoch 2/200\n",
      "68/68 [==============================] - ETA: 0s - loss: 1.1788 - accuracy: 0.4634\n",
      "Epoch 2: accuracy did not improve from 0.48572\n",
      "68/68 [==============================] - 8s 118ms/step - loss: 1.1788 - accuracy: 0.4634 - val_loss: 1.0986 - val_accuracy: 0.6264 - lr: 1.7500e-05\n",
      "Epoch 3/200\n",
      "68/68 [==============================] - ETA: 0s - loss: 1.1172 - accuracy: 0.4467\n",
      "Epoch 3: accuracy did not improve from 0.48572\n",
      "68/68 [==============================] - 8s 119ms/step - loss: 1.1172 - accuracy: 0.4467 - val_loss: 1.0986 - val_accuracy: 0.5539 - lr: 1.7500e-05\n",
      "Epoch 4/200\n",
      "68/68 [==============================] - ETA: 0s - loss: 1.1060 - accuracy: 0.4346\n",
      "Epoch 4: accuracy did not improve from 0.48572\n",
      "68/68 [==============================] - 8s 120ms/step - loss: 1.1060 - accuracy: 0.4346 - val_loss: 1.0986 - val_accuracy: 0.5502 - lr: 1.7500e-05\n",
      "Epoch 5/200\n",
      "68/68 [==============================] - ETA: 0s - loss: 1.1040 - accuracy: 0.4302\n",
      "Epoch 5: accuracy did not improve from 0.48572\n",
      "68/68 [==============================] - 8s 120ms/step - loss: 1.1040 - accuracy: 0.4302 - val_loss: 1.0986 - val_accuracy: 0.5149 - lr: 1.7500e-05\n",
      "Epoch 6/200\n",
      "41/68 [=================>............] - ETA: 2s - loss: 1.0978 - accuracy: 0.4310"
     ]
    }
   ],
   "source": [
    "LEARNING_RATE = 0.0000200 #0.0000200 0.0000100\n",
    "loss = tf.keras.losses.SparseCategoricalCrossentropy()\n",
    "optimizer = tf.keras.optimizers.Adam(\n",
    "  learning_rate=LEARNING_RATE,\n",
    ")\n",
    "input_shape = (None, SIZE_IMG, SIZE_IMG, 3)\n",
    "\n",
    "model = VitModel(\n",
    "  transformer_layers=TRANSFORMER_LAYERS,\n",
    "  patch_size=PATCH_SIZE,\n",
    "  num_patches=NUM_PATCHES,\n",
    "  projection_dim=PROJECTION_DIM,\n",
    "  transformer_units=TRANSFORMER_UNITS,\n",
    "  num_heads=NUM_HEADS,\n",
    "  mlp_head_units=MLP_HEAD_UNITS,\n",
    "  num_classes=len(class_array),\n",
    "  input_shape=(SIZE_IMG, SIZE_IMG, 3),\n",
    ")\n",
    "model.build(input_shape)\n",
    "\n",
    "check_name = f'checkpoints/{len(class_array)}_{MLP_HEAD_UNITS}_{TRANSFORMER_LAYERS}_trans_{NUM_HEADS}_heads_{NUM_PATCHES}_num_patchs_{PROJECTION_DIM}_{LEARNING_RATE}checkpoint.h5'\n",
    "logdir = \"./logs\" + \"/\" + time.strftime(\"%Y%m%d_%H-%M-%S\")\n",
    "callbacks = [\n",
    "  ReduceLROnPlateau(verbose=1),\n",
    "  #EarlyStopping(patience=10, verbose=1),\n",
    "  ModelCheckpoint(\n",
    "    check_name,\n",
    "    verbose=1,\n",
    "    monitor='accuracy',\n",
    "    save_freq='epoch',\n",
    "    save_best_only=True,\n",
    "    save_weights_only=True,\n",
    "  ),\n",
    "  TensorBoard(log_dir=logdir, histogram_freq=1)\n",
    "]\n",
    "model.compile(\n",
    "  loss=loss,\n",
    "  optimizer=optimizer,\n",
    "  metrics=[\n",
    "    tf.keras.metrics.SparseCategoricalAccuracy(name=\"accuracy\"),\n",
    "    #tf.keras.metrics.SparseTopKCategoricalAccuracy(5, name=\"top-5-accuracy\"),\n",
    "  ],\n",
    ")\n",
    "BATCH = 64\n",
    "model.fit(\n",
    "  epochs=200,\n",
    "  callbacks=callbacks,\n",
    "  x=train_ds.batch(BATCH),\n",
    "  validation_data=valid_ds.batch(BATCH),\n",
    ")"
   ]
  },
  {
   "cell_type": "code",
   "execution_count": 23,
   "metadata": {},
   "outputs": [
    {
     "data": {
      "text/plain": [
       "<AxesSubplot:>"
      ]
     },
     "execution_count": 23,
     "metadata": {},
     "output_type": "execute_result"
    },
    {
     "data": {
      "image/png": "[encoded data removed]",
      "text/plain": [
       "<Figure size 1800x720 with 2 Axes>"
      ]
     },
     "metadata": {
      "needs_background": "light"
     },
     "output_type": "display_data"
    }
   ],
   "source": [
    "tf_record_eva = test_ds.batch(256)\n",
    "\n",
    "all_preds = []\n",
    "all_labels = []\n",
    "for images, label in tf_record_eva:\n",
    "  preds = model.predict(images)\n",
    "  all_labels.extend(label)\n",
    "  all_preds.extend(np.argmax(preds, axis=1))\n",
    "del tf_record_eva\n",
    "\n",
    "confusion_matrix = tf.math.confusion_matrix(all_labels, all_preds, num_classes=len(class_array))\n",
    "\n",
    "plt.figure(figsize=(25, 10))\n",
    "sns.heatmap(confusion_matrix.numpy(), annot=True, cmap='Blues', xticklabels=class_array, yticklabels=class_array)"
   ]
  },
  {
   "cell_type": "code",
   "execution_count": null,
   "metadata": {},
   "outputs": [],
   "source": [
    "df = pd.read_csv(\n",
    "  '../Bases de Datos/crisismmd_datasplit_agreed_label/task_humanitarian_text_img_agreed_lab_dev.tsv',\n",
    "  sep='\\t',\n",
    "  encoding='utf-8'\n",
    ")\n",
    "\n",
    "print('Previous: ', df['tweet_text'].iloc[15])\n",
    "df['tweet_clean'] = df['tweet_text'].apply(clean_str)\n",
    "print('After: ', df['tweet_clean'].iloc[15])"
   ]
  },
  {
   "cell_type": "code",
   "execution_count": null,
   "metadata": {},
   "outputs": [],
   "source": []
  },
  {
   "cell_type": "code",
   "execution_count": null,
   "metadata": {},
   "outputs": [],
   "source": []
  },
  {
   "cell_type": "code",
   "execution_count": null,
   "metadata": {},
   "outputs": [],
   "source": []
  },
  {
   "cell_type": "code",
   "execution_count": null,
   "metadata": {},
   "outputs": [],
   "source": []
  },
  {
   "cell_type": "code",
   "execution_count": null,
   "metadata": {},
   "outputs": [],
   "source": [
    "import tensorflow_hub as hub\n",
    "import tensorflow_text as text"
   ]
  },
  {
   "cell_type": "code",
   "execution_count": null,
   "metadata": {},
   "outputs": [],
   "source": [
    "preprocess_url = \"https://tfhub.dev/tensorflow/bert_en_uncased_preprocess/3\"\n",
    "encoder_url = \"https://tfhub.dev/tensorflow/bert_en_uncased_L-12_H-768_A-12/4\""
   ]
  },
  {
   "cell_type": "code",
   "execution_count": null,
   "metadata": {},
   "outputs": [],
   "source": [
    "bert_preprocess_model = hub.KerasLayer(preprocess_url)"
   ]
  },
  {
   "cell_type": "code",
   "execution_count": null,
   "metadata": {},
   "outputs": [],
   "source": [
    "text_test = list(df['tweet_clean'].values)\n",
    "len(text_test)"
   ]
  },
  {
   "cell_type": "code",
   "execution_count": null,
   "metadata": {},
   "outputs": [],
   "source": [
    "text_preprocessed = bert_preprocess_model(text_test)\n",
    "text_preprocessed.keys()"
   ]
  },
  {
   "cell_type": "code",
   "execution_count": null,
   "metadata": {},
   "outputs": [],
   "source": [
    "bert_model = hub.KerasLayer(encoder_url)"
   ]
  },
  {
   "cell_type": "code",
   "execution_count": null,
   "metadata": {},
   "outputs": [],
   "source": [
    "#light test of the layer\n",
    "result_bert = bert_model(text_preprocessed)\n",
    "result_bert.keys()"
   ]
  },
  {
   "cell_type": "code",
   "execution_count": null,
   "metadata": {},
   "outputs": [],
   "source": []
  },
  {
   "cell_type": "code",
   "execution_count": null,
   "metadata": {},
   "outputs": [],
   "source": []
  },
  {
   "cell_type": "code",
   "execution_count": null,
   "metadata": {},
   "outputs": [],
   "source": [
    "result_bert['pooled_output']"
   ]
  },
  {
   "cell_type": "code",
   "execution_count": null,
   "metadata": {},
   "outputs": [],
   "source": [
    "result_bert['encoder_outputs']"
   ]
  },
  {
   "cell_type": "code",
   "execution_count": null,
   "metadata": {},
   "outputs": [],
   "source": [
    "result_bert['sequence_output']"
   ]
  },
  {
   "cell_type": "code",
   "execution_count": null,
   "metadata": {},
   "outputs": [],
   "source": []
  },
  {
   "cell_type": "code",
   "execution_count": null,
   "metadata": {},
   "outputs": [],
   "source": [
    "chunks = 100\n",
    "\n",
    "bert_results = []\n",
    "for i in range(0, len(text_test), chunks):\n",
    "  text_chunk = None\n",
    "  if i == len(text_test) - chunks:\n",
    "    text_chunk = text_test[i:]\n",
    "  else:\n",
    "    text_chunk = text_test[i: i + chunks]\n",
    "\n",
    "  text_preprocessed = bert_preprocess_model(text_chunk)\n",
    "  result_bert = bert_model(text_preprocessed)\n",
    "  bert_results.append(result_bert)"
   ]
  },
  {
   "cell_type": "code",
   "execution_count": null,
   "metadata": {},
   "outputs": [],
   "source": [
    "len(bert_results)"
   ]
  },
  {
   "cell_type": "code",
   "execution_count": null,
   "metadata": {},
   "outputs": [],
   "source": [
    "bert_results[0].keys()"
   ]
  },
  {
   "cell_type": "code",
   "execution_count": null,
   "metadata": {},
   "outputs": [],
   "source": [
    "cuda.select_device(0)\n",
    "cuda.close()"
   ]
  },
  {
   "cell_type": "code",
   "execution_count": null,
   "metadata": {},
   "outputs": [],
   "source": [
    "#import vgg16\n",
    "import tensorflow as tf\n",
    "\n",
    "from tensorflow.keras.applications.vgg16 import VGG16\n",
    "from tensorflow.keras.applications.vgg19 import VGG19\n",
    "model = VGG19()\n"
   ]
  },
  {
   "cell_type": "code",
   "execution_count": null,
   "metadata": {},
   "outputs": [],
   "source": [
    "from keras.preprocessing.image import load_img\n",
    "from keras.applications.imagenet_utils import preprocess_input\n",
    "import numpy as np\n",
    "\n",
    "image = load_img('../Data/Naruto_Uzumaki_HD.webp', target_size=(224, 224))"
   ]
  },
  {
   "cell_type": "code",
   "execution_count": null,
   "metadata": {},
   "outputs": [],
   "source": [
    "image = np.array(image)"
   ]
  },
  {
   "cell_type": "code",
   "execution_count": null,
   "metadata": {},
   "outputs": [],
   "source": [
    "image = np.array([image])\n",
    "image.shape"
   ]
  },
  {
   "cell_type": "code",
   "execution_count": null,
   "metadata": {},
   "outputs": [],
   "source": [
    "image = preprocess_input(image)"
   ]
  },
  {
   "cell_type": "code",
   "execution_count": null,
   "metadata": {},
   "outputs": [],
   "source": [
    "image.shape"
   ]
  },
  {
   "cell_type": "code",
   "execution_count": null,
   "metadata": {},
   "outputs": [],
   "source": [
    "result = model.predict(image)\n",
    "result[0].shape\n",
    "#the output is a vector of features (1000)"
   ]
  },
  {
   "cell_type": "code",
   "execution_count": null,
   "metadata": {},
   "outputs": [],
   "source": []
  }
 ],
 "metadata": {
  "interpreter": {
   "hash": "852bc408046ca7dfc5c8f91ce764d8630d2287ca09c7fe9d1b4d9cd156705bcb"
  },
  "kernelspec": {
   "display_name": "Python 3.9.0 ('tfenv')",
   "language": "python",
   "name": "python3"
  },
  "language_info": {
   "codemirror_mode": {
    "name": "ipython",
    "version": 3
   },
   "file_extension": ".py",
   "mimetype": "text/x-python",
   "name": "python",
   "nbconvert_exporter": "python",
   "pygments_lexer": "ipython3",
   "version": "3.9.0"
  },
  "orig_nbformat": 4
 },
 "nbformat": 4,
 "nbformat_minor": 2
}
